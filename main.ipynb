{
 "cells": [
  {
   "cell_type": "code",
   "execution_count": 91,
   "metadata": {},
   "outputs": [],
   "source": [
    "import numpy as np\n",
    "import pandas as pd\n",
    "import matplotlib.pyplot as plt"
   ]
  },
  {
   "cell_type": "code",
   "execution_count": 92,
   "metadata": {},
   "outputs": [],
   "source": [
    "df_headers = ['molecule_name', 'conformation_name'] + [f'f{i}' for i in range(1, 167)] + ['class']\n",
    "df_train = pd.read_csv('clean2.data', delimiter=',', names=df_headers)\n",
    "df_test = pd.read_csv('clean1.data', delimiter=',', names=df_headers)"
   ]
  },
  {
   "cell_type": "code",
   "execution_count": 93,
   "metadata": {},
   "outputs": [],
   "source": [
    "X_train = df_train.drop(columns=['molecule_name', 'conformation_name', 'class'])\n",
    "y_train = df_train['class'].to_numpy()\n",
    "X_test = df_test.drop(columns=['molecule_name', 'conformation_name', 'class'])\n",
    "y_test = df_test['class'].to_numpy()"
   ]
  },
  {
   "cell_type": "code",
   "execution_count": 94,
   "metadata": {},
   "outputs": [],
   "source": [
    "from sklearn.preprocessing import StandardScaler\n",
    "scaler = StandardScaler()\n",
    "X_train = scaler.fit_transform(X_train)\n",
    "X_test = scaler.fit_transform(X_test)"
   ]
  },
  {
   "cell_type": "code",
   "execution_count": 127,
   "metadata": {},
   "outputs": [],
   "source": [
    "def sigmoid(z):\n",
    "    return 1 / (1 + np.exp(-z))"
   ]
  },
  {
   "cell_type": "code",
   "execution_count": 141,
   "metadata": {},
   "outputs": [],
   "source": [
    "def compute_cost(X, y, w, b=0):\n",
    "    n_samples, _ = X.shape\n",
    "    w = w.reshape(-1, 1)\n",
    "\n",
    "    z = X@w + b\n",
    "    a = sigmoid(z.reshape(-1))\n",
    "    loss = -y*np.log(a) - (1-y)*np.log(1-a)\n",
    "    total_cost = np.sum(loss) / n_samples\n",
    "    \n",
    "    return total_cost"
   ]
  },
  {
   "cell_type": "code",
   "execution_count": 132,
   "metadata": {},
   "outputs": [],
   "source": [
    "def compute_gradient(X, y, w, b=0):\n",
    "    n_samples, _ = X.shape\n",
    "    dw = np.zeros(w.shape)\n",
    "    db = 0.\n",
    "    w = w.reshape(-1, 1)\n",
    "\n",
    "    z = X@w + b\n",
    "    a = sigmoid(z.reshape(-1))\n",
    "    err = a - y\n",
    "\n",
    "    dw = np.sum(err.reshape(-1,1)*X, axis=0) / n_samples\n",
    "    db = np.sum(err) / n_samples\n",
    "\n",
    "    return dw, db"
   ]
  },
  {
   "cell_type": "code",
   "execution_count": 139,
   "metadata": {},
   "outputs": [],
   "source": [
    "def logistic_regression(X, y, learning_rate, num_iterations, add_intercept=True):\n",
    "    _, n_features = X.shape\n",
    "\n",
    "    cost_history = np.zeros(num_iterations, dtype=np.float64) # cost history\n",
    "    w, b = np.zeros(n_features), 0. # parameters\n",
    "\n",
    "    for iter in range(num_iterations):\n",
    "        dw, db = compute_gradient(X, y, w, b)\n",
    "        w -= learning_rate*dw\n",
    "        b -= learning_rate*db if add_intercept else 0\n",
    "        cost_history[iter] = compute_cost(X, y, w, b)\n",
    "        \n",
    "        if (iter+1) % (num_iter//10) == 0:\n",
    "            print(f'iteration {iter+1:>5}/{num_iterations},\\tcost: {cost_history[iter]:>9.5f}')\n",
    "\n",
    "    return w, b, cost_history"
   ]
  },
  {
   "cell_type": "code",
   "execution_count": 159,
   "metadata": {},
   "outputs": [],
   "source": [
    "def predict(X, w, b, threshold=0.5):\n",
    "    w = w.reshape(-1, 1)\n",
    "    z = X@w + b\n",
    "    a = sigmoid(z.reshape(-1))\n",
    "    pred = (a >= threshold)\n",
    "    \n",
    "    return pred.astype(float)"
   ]
  },
  {
   "cell_type": "code",
   "execution_count": 170,
   "metadata": {},
   "outputs": [],
   "source": [
    "def score(y_true, y_pred):\n",
    "    n_samples = y_true.shape\n",
    "    score = np.sum(y_pred == y_true) / n_samples\n",
    "    \n",
    "    return score.item()"
   ]
  },
  {
   "cell_type": "code",
   "execution_count": 174,
   "metadata": {},
   "outputs": [
    {
     "name": "stdout",
     "output_type": "stream",
     "text": [
      "iteration   100/1000,\tcost:   0.51671\n",
      "iteration   200/1000,\tcost:   0.43227\n",
      "iteration   300/1000,\tcost:   0.37932\n",
      "iteration   400/1000,\tcost:   0.34309\n",
      "iteration   500/1000,\tcost:   0.31689\n",
      "iteration   600/1000,\tcost:   0.29715\n",
      "iteration   700/1000,\tcost:   0.28181\n",
      "iteration   800/1000,\tcost:   0.26956\n",
      "iteration   900/1000,\tcost:   0.25957\n",
      "iteration  1000/1000,\tcost:   0.25127\n"
     ]
    },
    {
     "data": {
      "image/png": "[encoded data removed]",
      "text/plain": [
       "<Figure size 432x288 with 1 Axes>"
      ]
     },
     "metadata": {
      "needs_background": "light"
     },
     "output_type": "display_data"
    }
   ],
   "source": [
    "num_iter = 1000\n",
    "lr = 0.01\n",
    "\n",
    "W_final, b_final, h = logistic_regression(X_train, y_train, lr, num_iter)\n",
    "\n",
    "plt.plot(list(range(num_iter)), h, c='red')\n",
    "plt.xlabel('Iteration')\n",
    "plt.ylabel('Cost')\n",
    "plt.title(f'Logistic Regression Cost')\n",
    "plt.show()"
   ]
  },
  {
   "cell_type": "code",
   "execution_count": 175,
   "metadata": {},
   "outputs": [
    {
     "data": {
      "text/plain": [
       "0.7121848739495799"
      ]
     },
     "execution_count": 175,
     "metadata": {},
     "output_type": "execute_result"
    }
   ],
   "source": [
    "y_pred = predict(X_test, W_final, b_final)\n",
    "score(y_test, y_pred)"
   ]
  }
 ],
 "metadata": {
  "interpreter": {
   "hash": "c0cfa47e4159e176ee37e3e8a7954059166176c1746676448f5cd8f3d8af8630"
  },
  "kernelspec": {
   "display_name": "Python 3.9.12 ('base')",
   "language": "python",
   "name": "python3"
  },
  "language_info": {
   "codemirror_mode": {
    "name": "ipython",
    "version": 3
   },
   "file_extension": ".py",
   "mimetype": "text/x-python",
   "name": "python",
   "nbconvert_exporter": "python",
   "pygments_lexer": "ipython3",
   "version": "3.9.12"
  },
  "orig_nbformat": 4
 },
 "nbformat": 4,
 "nbformat_minor": 2
}
