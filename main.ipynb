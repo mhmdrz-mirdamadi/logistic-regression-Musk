{
 "cells": [
  {
   "cell_type": "markdown",
   "metadata": {},
   "source": [
    "# Import Libraries"
   ]
  },
  {
   "cell_type": "code",
   "execution_count": 91,
   "metadata": {},
   "outputs": [],
   "source": [
    "import numpy as np\n",
    "import pandas as pd\n",
    "import matplotlib.pyplot as plt"
   ]
  },
  {
   "cell_type": "markdown",
   "metadata": {},
   "source": [
    "# Load Data"
   ]
  },
  {
   "cell_type": "code",
   "execution_count": 92,
   "metadata": {},
   "outputs": [],
   "source": [
    "df_headers = ['molecule_name', 'conformation_name'] + [f'f{i}' for i in range(1, 167)] + ['class']\n",
    "df_train = pd.read_csv('clean2.data', delimiter=',', names=df_headers)\n",
    "df_test = pd.read_csv('clean1.data', delimiter=',', names=df_headers)"
   ]
  },
  {
   "cell_type": "code",
   "execution_count": 93,
   "metadata": {},
   "outputs": [],
   "source": [
    "X_train = df_train.drop(columns=['molecule_name', 'conformation_name', 'class'])\n",
    "y_train = df_train['class'].to_numpy()\n",
    "X_test = df_test.drop(columns=['molecule_name', 'conformation_name', 'class'])\n",
    "y_test = df_test['class'].to_numpy()"
   ]
  },
  {
   "cell_type": "markdown",
   "metadata": {},
   "source": [
    "# Standardization"
   ]
  },
  {
   "cell_type": "code",
   "execution_count": 94,
   "metadata": {},
   "outputs": [],
   "source": [
    "from sklearn.preprocessing import StandardScaler\n",
    "scaler = StandardScaler()\n",
    "X_train = scaler.fit_transform(X_train)\n",
    "X_test = scaler.fit_transform(X_test)"
   ]
  },
  {
   "cell_type": "markdown",
   "metadata": {},
   "source": [
    "# Model Implementation"
   ]
  },
  {
   "cell_type": "code",
   "execution_count": 127,
   "metadata": {},
   "outputs": [],
   "source": [
    "def sigmoid(z):\n",
    "    return 1 / (1 + np.exp(-z))"
   ]
  },
  {
   "cell_type": "code",
   "execution_count": 141,
   "metadata": {},
   "outputs": [],
   "source": [
    "def compute_cost(X, y, w, b=0):\n",
    "    n_samples, _ = X.shape\n",
    "    w = w.reshape(-1, 1)\n",
    "\n",
    "    z = X@w + b\n",
    "    a = sigmoid(z.reshape(-1))\n",
    "    loss = -y*np.log(a) - (1-y)*np.log(1-a)\n",
    "    total_cost = np.sum(loss) / n_samples\n",
    "    \n",
    "    return total_cost"
   ]
  },
  {
   "cell_type": "code",
   "execution_count": 132,
   "metadata": {},
   "outputs": [],
   "source": [
    "def compute_gradient(X, y, w, b=0):\n",
    "    n_samples, _ = X.shape\n",
    "    dw = np.zeros(w.shape)\n",
    "    db = 0.\n",
    "    w = w.reshape(-1, 1)\n",
    "\n",
    "    z = X@w + b\n",
    "    a = sigmoid(z.reshape(-1))\n",
    "    err = a - y\n",
    "\n",
    "    dw = np.sum(err.reshape(-1,1)*X, axis=0) / n_samples\n",
    "    db = np.sum(err) / n_samples\n",
    "\n",
    "    return dw, db"
   ]
  },
  {
   "cell_type": "code",
   "execution_count": 192,
   "metadata": {},
   "outputs": [],
   "source": [
    "def logistic_regression(X, y, learning_rate, num_iterations, add_intercept=True):\n",
    "    _, n_features = X.shape\n",
    "\n",
    "    cost_history = np.zeros(num_iterations, dtype=np.float64) # cost history\n",
    "    w, b = np.zeros(n_features), 0. # parameters\n",
    "\n",
    "    for iter in range(num_iterations):\n",
    "        dw, db = compute_gradient(X, y, w, b)\n",
    "        w -= learning_rate*dw\n",
    "        b -= learning_rate*db if add_intercept else 0\n",
    "        cost_history[iter] = compute_cost(X, y, w, b)\n",
    "        \n",
    "        if (iter+1) % (num_iter//10) == 0:\n",
    "            print(f'iteration: {iter+1:>5}/{num_iterations},\\tcost: {cost_history[iter]:>6.5f}')\n",
    "\n",
    "    return w, b, cost_history"
   ]
  },
  {
   "cell_type": "code",
   "execution_count": 186,
   "metadata": {},
   "outputs": [],
   "source": [
    "def predict(X, w, b, threshold=0.5):\n",
    "    w = w.reshape(-1, 1)\n",
    "    z = X@w + b\n",
    "    a = sigmoid(z.reshape(-1))\n",
    "    pred = (a >= threshold)\n",
    "    \n",
    "    return pred.astype(float)"
   ]
  },
  {
   "cell_type": "code",
   "execution_count": 187,
   "metadata": {},
   "outputs": [],
   "source": [
    "def score(y_true, y_pred):\n",
    "    n_samples = y_true.shape\n",
    "    score = np.sum(y_pred == y_true) / n_samples\n",
    "    \n",
    "    return score.item()"
   ]
  },
  {
   "cell_type": "markdown",
   "metadata": {},
   "source": [
    "# Model Training"
   ]
  },
  {
   "cell_type": "code",
   "execution_count": 245,
   "metadata": {},
   "outputs": [],
   "source": [
    "num_iter = 3000\n",
    "lr_high, lr_best, lr_low = 1.2, 0.1, 0.001"
   ]
  },
  {
   "cell_type": "markdown",
   "metadata": {},
   "source": [
    "## High Learning Rate"
   ]
  },
  {
   "cell_type": "code",
   "execution_count": 241,
   "metadata": {},
   "outputs": [
    {
     "name": "stdout",
     "output_type": "stream",
     "text": [
      "iteration:   300/3000,\tcost: 0.16805\n",
      "iteration:   600/3000,\tcost: 0.13933\n",
      "iteration:   900/3000,\tcost: 0.13425\n",
      "iteration:  1200/3000,\tcost: 0.13207\n",
      "iteration:  1500/3000,\tcost: 0.13385\n",
      "iteration:  1800/3000,\tcost: 0.12571\n",
      "iteration:  2100/3000,\tcost: 0.12465\n",
      "iteration:  2400/3000,\tcost: 0.12361\n",
      "iteration:  2700/3000,\tcost: 0.12290\n",
      "iteration:  3000/3000,\tcost: 0.12172\n",
      "Model score with high learning rate: 0.7289915966386554\n"
     ]
    }
   ],
   "source": [
    "W_final_high, b_final_high, history_high = logistic_regression(X_train, y_train, lr_high, num_iter)\n",
    "y_pred_high = predict(X_test, W_final_high, b_final_high)\n",
    "score_high = score(y_test, y_pred_high)\n",
    "print('Model score with high learning rate:', score_high)"
   ]
  },
  {
   "cell_type": "markdown",
   "metadata": {},
   "source": [
    "## Best Learning Rate"
   ]
  },
  {
   "cell_type": "code",
   "execution_count": 235,
   "metadata": {},
   "outputs": [
    {
     "name": "stdout",
     "output_type": "stream",
     "text": [
      "iteration:   300/3000,\tcost: 0.19395\n",
      "iteration:   600/3000,\tcost: 0.17483\n",
      "iteration:   900/3000,\tcost: 0.16624\n",
      "iteration:  1200/3000,\tcost: 0.16080\n",
      "iteration:  1500/3000,\tcost: 0.15687\n",
      "iteration:  1800/3000,\tcost: 0.15384\n",
      "iteration:  2100/3000,\tcost: 0.15139\n",
      "iteration:  2400/3000,\tcost: 0.14937\n",
      "iteration:  2700/3000,\tcost: 0.14766\n",
      "iteration:  3000/3000,\tcost: 0.14618\n",
      "Model score with best learning rate: 0.7394957983193278\n"
     ]
    }
   ],
   "source": [
    "W_final_best, b_final_best, history_best = logistic_regression(X_train, y_train, lr_best, num_iter)\n",
    "y_pred_best = predict(X_test, W_final_best, b_final_best)\n",
    "score_best = score(y_test, y_pred_best)\n",
    "print('Model score with best learning rate:', score_best)"
   ]
  },
  {
   "cell_type": "markdown",
   "metadata": {},
   "source": [
    "## Low Learning Rate"
   ]
  },
  {
   "cell_type": "code",
   "execution_count": 266,
   "metadata": {},
   "outputs": [
    {
     "name": "stdout",
     "output_type": "stream",
     "text": [
      "iteration:   300/3000,\tcost: 0.61672\n",
      "iteration:   600/3000,\tcost: 0.56737\n",
      "iteration:   900/3000,\tcost: 0.52825\n",
      "iteration:  1200/3000,\tcost: 0.49614\n",
      "iteration:  1500/3000,\tcost: 0.46914\n",
      "iteration:  1800/3000,\tcost: 0.44606\n",
      "iteration:  2100/3000,\tcost: 0.42607\n",
      "iteration:  2400/3000,\tcost: 0.40858\n",
      "iteration:  2700/3000,\tcost: 0.39316\n",
      "iteration:  3000/3000,\tcost: 0.37946\n",
      "Model score with low learning rate: 0.7058823529411765\n"
     ]
    }
   ],
   "source": [
    "W_final_low, b_final_low, history_low = logistic_regression(X_train, y_train, lr_low, num_iter)\n",
    "y_pred_low = predict(X_test, W_final_low, b_final_low)\n",
    "score_low = score(y_test, y_pred_low)\n",
    "print('Model score with low learning rate:', score_low)"
   ]
  },
  {
   "cell_type": "markdown",
   "metadata": {},
   "source": [
    "## Plotting Cost"
   ]
  },
  {
   "cell_type": "code",
   "execution_count": 267,
   "metadata": {},
   "outputs": [
    {
     "data": {
      "image/png": "[encoded data removed]",
      "text/plain": [
       "<Figure size 864x360 with 1 Axes>"
      ]
     },
     "metadata": {
      "needs_background": "light"
     },
     "output_type": "display_data"
    }
   ],
   "source": [
    "plt.figure(figsize=(12, 5))\n",
    "plt.plot(list(range(num_iter)), history_high)\n",
    "plt.plot(list(range(num_iter)), history_best)\n",
    "plt.plot(list(range(num_iter)), history_low)\n",
    "plt.ylim(0, 1)\n",
    "plt.legend(['high', 'best', 'low'])\n",
    "plt.xlabel('Iteration')\n",
    "plt.ylabel('Cost')\n",
    "plt.title(f'Logistic Regression Cost')\n",
    "plt.show()"
   ]
  },
  {
   "cell_type": "markdown",
   "metadata": {},
   "source": [
    "# Evaluation Metrics"
   ]
  },
  {
   "cell_type": "code",
   "execution_count": 276,
   "metadata": {},
   "outputs": [
    {
     "name": "stdout",
     "output_type": "stream",
     "text": [
      "Accuracy: 0.7394957983193278\n",
      "Precision: 0.946236559139785\n",
      "Recall: 0.4251207729468599\n",
      "F1 Score: 0.5866666666666667\n"
     ]
    }
   ],
   "source": [
    "from sklearn.metrics import accuracy_score, recall_score, precision_score, f1_score\n",
    "\n",
    "print('Accuracy:', accuracy_score(y_test, y_pred_best))\n",
    "print('Precision:', precision_score(y_test, y_pred_best))\n",
    "print('Recall:', recall_score(y_test, y_pred_best))\n",
    "print('F1 Score:', f1_score(y_test, y_pred_best))"
   ]
  },
  {
   "cell_type": "markdown",
   "metadata": {},
   "source": [
    "Accuracy computes the set of labels predicted for a sample that exactly matches the corresponding set of labels in `y_true`."
   ]
  },
  {
   "cell_type": "markdown",
   "metadata": {},
   "source": [
    "The recall is the ratio `tp / (tp + fn)` where `tp` is the number of true positives and `fn` the number of false negatives.  \n",
    "Recall is the ability of the classifier to find all the positive samples."
   ]
  },
  {
   "cell_type": "markdown",
   "metadata": {},
   "source": [
    "The precision is the ratio `tp / (tp + fp)` where `tp` is the number of true positives and `fp` the number of false positives.  \n",
    "Precision is the ability of the classifier not to label as positive a sample that is negative."
   ]
  },
  {
   "cell_type": "markdown",
   "metadata": {},
   "source": [
    "The F1 score can be interpreted as a harmonic mean of the precision and recall, where an F1 score reaches its best value at 1 and worst score at 0.  \n",
    "The formula for the F1 score is:\n",
    "`F1 = 2 * (precision * recall) / (precision + recall)`"
   ]
  }
 ],
 "metadata": {
  "interpreter": {
   "hash": "c0cfa47e4159e176ee37e3e8a7954059166176c1746676448f5cd8f3d8af8630"
  },
  "kernelspec": {
   "display_name": "Python 3.9.12 ('base')",
   "language": "python",
   "name": "python3"
  },
  "language_info": {
   "codemirror_mode": {
    "name": "ipython",
    "version": 3
   },
   "file_extension": ".py",
   "mimetype": "text/x-python",
   "name": "python",
   "nbconvert_exporter": "python",
   "pygments_lexer": "ipython3",
   "version": "3.9.12"
  },
  "orig_nbformat": 4
 },
 "nbformat": 4,
 "nbformat_minor": 2
}
